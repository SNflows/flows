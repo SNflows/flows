{
 "cells": [
  {
   "cell_type": "code",
   "execution_count": 1,
   "metadata": {},
   "outputs": [],
   "source": [
    "#Funpack the .fz files\n",
    "#Need cfitsio installed!\n",
    "import subprocess\n",
    "p1=subprocess.Popen('funpack ../incoming/backup/*.fz',shell=True)\n",
    "p1.wait()\n",
    "p1.terminate()\n",
    "\n",
    "#Move reduced files to reduced dir (also raw to raw)\n",
    "import glob\n",
    "files=glob.glob('../Incoming/backup/*.fits')\n",
    "import shutil\n",
    "for f in files:\n",
    "    fname=f.split('/')[-1]\n",
    "    if fname.split('-')[-1] == 'e00.fits':\n",
    "        shutil.move(f,'../incoming/raw/'+fname)\n",
    "    else:\n",
    "        shutil.move(f,'../incoming/reduced/'+fname)\n",
    "\n",
    "#Rename files and save a copy into correct directory\n",
    "outpath=\"../DATA/\"\n",
    "from astropy.io import fits    \n",
    "files=glob.glob('../Incoming/reduced/*.fits')\n",
    "for f in files:\n",
    "    with fits.open(f) as hdu:\n",
    "        header = hdu[0].header\n",
    "        date=header['DATE-OBS']\n",
    "        date_fix=date.replace('-','').replace(':','').split('.')[0]\n",
    "        name=date_fix+'_'+header['FILTER']+'.fits'\n",
    "        obj=header['OBJECT'].strip() #obj name, alt. get from sysargv[1]\n",
    "        wpath=outpath+obj+'/'\n",
    "        hdu.writeto(wpath+name,overwrite=True)"
   ]
  }
 ],
 "metadata": {
  "kernelspec": {
   "display_name": "Python 3",
   "language": "python",
   "name": "python3"
  },
  "language_info": {
   "codemirror_mode": {
    "name": "ipython",
    "version": 3
   },
   "file_extension": ".py",
   "mimetype": "text/x-python",
   "name": "python",
   "nbconvert_exporter": "python",
   "pygments_lexer": "ipython3",
   "version": "3.7.4"
  }
 },
 "nbformat": 4,
 "nbformat_minor": 2
}
