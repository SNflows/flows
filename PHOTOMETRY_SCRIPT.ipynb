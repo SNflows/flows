{
 "cells": [
  {
   "cell_type": "code",
   "execution_count": 1,
   "id": "98f2ee82",
   "metadata": {},
   "outputs": [],
   "source": [
    "import warnings\n",
    "from copy import copy\n",
    "from timeit import default_timer\n",
    "from typing import Dict, List, Optional, Callable, Tuple, Union, TypeVar, Any\n",
    "\n",
    "import numpy as np\n",
    "from numpy.typing import ArrayLike, NDArray\n",
    "from astropy.utils.exceptions import AstropyDeprecationWarning, AstropyUserWarning\n",
    "import astropy.units as u\n",
    "from astropy.table import Table\n",
    "from astropy.nddata import NDData\n",
    "from astropy.modeling import fitting\n",
    "from astropy.wcs.utils import proj_plane_pixel_area\n",
    "import multiprocessing\n",
    "#from tendrils import api\n",
    "\n"
   ]
  },
  {
   "cell_type": "code",
   "execution_count": 2,
   "id": "e7f25362",
   "metadata": {},
   "outputs": [],
   "source": [
    "#from .magnitudes import instrumental_mag\n",
    "#from .result_model import ResultsTable\n",
    "\n",
    "#warnings.simplefilter('ignore', category=AstropyDeprecationWarning)\n",
    "#from photutils import CircularAperture, CircularAnnulus, aperture_photometry  # noqa: E402\n",
    "#from photutils.psf import EPSFFitter, BasicPSFPhotometry, DAOGroup, extract_stars  # noqa: E402\n",
    "#from photutils.background import MedianBackground  # noqa: E402\n",
    "#import photutils  # noqa: E402\n",
    "\n",
    "#from .reference_cleaning import References, ReferenceCleaner, InitGuess  # noqa: E402\n",
    "#from .plots import plt, plot_image  # noqa: E402\n",
    "#from .version import get_version  # noqa: E402\n",
    "#from .image import FlowsImage  # noqa: E402\n",
    "#from .coordinatematch import correct_wcs  # noqa: E402\n",
    "#from .epsfbuilder import FlowsEPSFBuilder, verify_epsf  # noqa: E402\n",
    "#from .fileio import DirectoryProtocol, IOManager  # noqa: E402\n",
    "#from .target import Target  # noqa: E402\n",
    "#from .background import FlowsBackground  # noqa: E402\n",
    "#from .utilities import create_logger  # noqa: E402"
   ]
  },
  {
   "cell_type": "code",
   "execution_count": 17,
   "id": "0ea7f43e",
   "metadata": {},
   "outputs": [],
   "source": [
    "import sys, os\n",
    "sys.path.append(os.path.join('/Users/kimphan/Desktop/flows','flows'))\n",
    "#sys.path.append(os.path.join(sys.path[0],'flows'))\n",
    "#sys.path.append(\"../\") # go to parent dir\n",
    "#import hello2\n",
    "#hello2.instrumental_mag()\n",
    "#hello1.hello_there()\n",
    "#import magnitudes\n",
    "#hello2.instrumental_mag"
   ]
  },
  {
   "cell_type": "code",
   "execution_count": 24,
   "id": "38866473",
   "metadata": {},
   "outputs": [
    {
     "ename": "ImportError",
     "evalue": "attempted relative import with no known parent package",
     "output_type": "error",
     "traceback": [
      "\u001b[0;31m---------------------------------------------------------------------------\u001b[0m",
      "\u001b[0;31mImportError\u001b[0m                               Traceback (most recent call last)",
      "Cell \u001b[0;32mIn[24], line 3\u001b[0m\n\u001b[1;32m      1\u001b[0m \u001b[38;5;28;01mimport\u001b[39;00m \u001b[38;5;21;01msys\u001b[39;00m\n\u001b[1;32m      2\u001b[0m sys\u001b[38;5;241m.\u001b[39mpath\u001b[38;5;241m.\u001b[39mappend(\u001b[38;5;124m\"\u001b[39m\u001b[38;5;124m/flows\u001b[39m\u001b[38;5;124m\"\u001b[39m) \u001b[38;5;66;03m# go to parent dir\u001b[39;00m\n\u001b[0;32m----> 3\u001b[0m \u001b[38;5;28;01mimport\u001b[39;00m \u001b[38;5;21;01mmagnitudes\u001b[39;00m\n",
      "File \u001b[0;32m~/Dropbox/Mac/Desktop/flows/flows/magnitudes.py:10\u001b[0m\n\u001b[1;32m      7\u001b[0m \u001b[38;5;28;01mfrom\u001b[39;00m \u001b[38;5;21;01mastropy\u001b[39;00m\u001b[38;5;21;01m.\u001b[39;00m\u001b[38;5;21;01mtable\u001b[39;00m \u001b[38;5;28;01mimport\u001b[39;00m Table\n\u001b[1;32m      8\u001b[0m \u001b[38;5;28;01mfrom\u001b[39;00m \u001b[38;5;21;01mbottleneck\u001b[39;00m \u001b[38;5;28;01mimport\u001b[39;00m nansum\n\u001b[0;32m---> 10\u001b[0m \u001b[38;5;28;01mfrom\u001b[39;00m \u001b[38;5;21;01m.\u001b[39;00m\u001b[38;5;21;01mfilters\u001b[39;00m \u001b[38;5;28;01mimport\u001b[39;00m get_reference_filter\n\u001b[1;32m     11\u001b[0m \u001b[38;5;28;01mfrom\u001b[39;00m \u001b[38;5;21;01m.\u001b[39;00m\u001b[38;5;21;01mtarget\u001b[39;00m \u001b[38;5;28;01mimport\u001b[39;00m Target\n\u001b[1;32m     12\u001b[0m \u001b[38;5;28;01mfrom\u001b[39;00m \u001b[38;5;21;01m.\u001b[39;00m\u001b[38;5;21;01mutilities\u001b[39;00m \u001b[38;5;28;01mimport\u001b[39;00m create_logger\n",
      "\u001b[0;31mImportError\u001b[0m: attempted relative import with no known parent package"
     ]
    }
   ],
   "source": [
    "import sys\n",
    "sys.path.append(\"/flows\") # go to parent dir\n",
    "import magnitudes"
   ]
  },
  {
   "cell_type": "code",
   "execution_count": null,
   "id": "14cb27ed",
   "metadata": {},
   "outputs": [],
   "source": []
  }
 ],
 "metadata": {
  "kernelspec": {
   "display_name": "Python 3 (ipykernel)",
   "language": "python",
   "name": "python3"
  },
  "language_info": {
   "codemirror_mode": {
    "name": "ipython",
    "version": 3
   },
   "file_extension": ".py",
   "mimetype": "text/x-python",
   "name": "python",
   "nbconvert_exporter": "python",
   "pygments_lexer": "ipython3",
   "version": "3.10.6"
  }
 },
 "nbformat": 4,
 "nbformat_minor": 5
}
