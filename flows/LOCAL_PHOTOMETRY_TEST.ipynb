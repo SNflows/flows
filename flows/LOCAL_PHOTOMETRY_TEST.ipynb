{
 "cells": [
  {
   "cell_type": "code",
   "execution_count": 1,
   "id": "78a7e1b1",
   "metadata": {},
   "outputs": [],
   "source": [
    "import sys  \n",
    "sys.path.insert(0, '/Users/kimphan/Desktop/flows_test/flows/coordinatematch')\n",
    "import wcs\n",
    "import coordinatematch\n",
    "sys.path.insert(0, '/Users/kimphan/Desktop/flows_test/flows')\n",
    "import photometry"
   ]
  },
  {
   "cell_type": "code",
   "execution_count": 2,
   "id": "c630bee2",
   "metadata": {},
   "outputs": [
    {
     "name": "stderr",
     "output_type": "stream",
     "text": [
      "WARNING: The following header keyword is invalid or follows an unrecognized non-standard convention:\n",
      "PIXXMIT                        / Number of pixels returned per ADC go            [astropy.io.fits.card]\n",
      "WARNING: The following header keyword is invalid or follows an unrecognized non-standard convention:\n",
      "PIXOFFST                       / Valid pixel offset within ADC go                [astropy.io.fits.card]\n",
      "WARNING: The following header keyword is invalid or follows an unrecognized non-standard convention:\n",
      "IRFILTID                       / IR Channel Filter ID                            [astropy.io.fits.card]\n",
      "WARNING: The following header keyword is invalid or follows an unrecognized non-standard convention:\n",
      "PIXXMIT                        / Number of pixels returned per ADC go            [astropy.io.fits.card]\n",
      "WARNING: The following header keyword is invalid or follows an unrecognized non-standard convention:\n",
      "PIXOFFST                       / Valid pixel offset within ADC go                [astropy.io.fits.card]\n",
      "WARNING: The following header keyword is invalid or follows an unrecognized non-standard convention:\n",
      "IRFILTID                       / IR Channel Filter ID                            [astropy.io.fits.card]\n"
     ]
    }
   ],
   "source": [
    "# load image. For the methods below, the image must be convert to a FlowsImage\n",
    "from astropy.io import fits\n",
    "from image import FlowsImage \n",
    "IMAGE_PATH = \"/Users/kimphan/Desktop/flows_test/photometry/2018rw/SN2018rw_58166_B.fits.gz\"\n",
    "hdul = fits.open(IMAGE_PATH)\n",
    "img = hdul[0].data\n",
    "hdr = hdul[0].header\n",
    "image = FlowsImage(image = img, header = hdr)"
   ]
  },
  {
   "cell_type": "code",
   "execution_count": 3,
   "id": "4c89e45e",
   "metadata": {},
   "outputs": [],
   "source": [
    "# using PSFBuilder\n",
    "psf_builder = photometry.PSFBuilder(image = image, target=\"2018rw\", fwhm_guess = 5)"
   ]
  },
  {
   "cell_type": "code",
   "execution_count": 4,
   "id": "57b49dc7",
   "metadata": {},
   "outputs": [
    {
     "ename": "AttributeError",
     "evalue": "'NoneType' object has no attribute 'data'",
     "output_type": "error",
     "traceback": [
      "\u001b[0;31m---------------------------------------------------------------------------\u001b[0m",
      "\u001b[0;31mAttributeError\u001b[0m                            Traceback (most recent call last)",
      "Cell \u001b[0;32mIn[4], line 3\u001b[0m\n\u001b[1;32m      1\u001b[0m star_size \u001b[38;5;241m=\u001b[39m psf_builder\u001b[38;5;241m.\u001b[39mstar_size\n\u001b[1;32m      2\u001b[0m \u001b[38;5;66;03m# for extract_star, image MUST be a FlowsImage\u001b[39;00m\n\u001b[0;32m----> 3\u001b[0m extract_star_cutouts \u001b[38;5;241m=\u001b[39m \u001b[43mpsf_builder\u001b[49m\u001b[38;5;241;43m.\u001b[39;49m\u001b[43mextract_star_cutouts\u001b[49m\u001b[43m(\u001b[49m\u001b[43mstar_xys\u001b[49m\u001b[38;5;241;43m=\u001b[39;49m\u001b[43mimage\u001b[49m\u001b[43m)\u001b[49m\n",
      "File \u001b[0;32m~/Desktop/flows_test/flows/photometry.py:98\u001b[0m, in \u001b[0;36mPSFBuilder.extract_star_cutouts\u001b[0;34m(self, star_xys)\u001b[0m\n\u001b[1;32m     96\u001b[0m \u001b[38;5;28;01mwith\u001b[39;00m warnings\u001b[38;5;241m.\u001b[39mcatch_warnings():\n\u001b[1;32m     97\u001b[0m     warnings\u001b[38;5;241m.\u001b[39msimplefilter(\u001b[38;5;124m'\u001b[39m\u001b[38;5;124mignore\u001b[39m\u001b[38;5;124m'\u001b[39m, AstropyUserWarning)\n\u001b[0;32m---> 98\u001b[0m     stars \u001b[38;5;241m=\u001b[39m extract_stars(NDData(data\u001b[38;5;241m=\u001b[39m\u001b[38;5;28;43mself\u001b[39;49m\u001b[38;5;241;43m.\u001b[39;49m\u001b[43mimage\u001b[49m\u001b[38;5;241;43m.\u001b[39;49m\u001b[43msubclean\u001b[49m\u001b[38;5;241;43m.\u001b[39;49m\u001b[43mdata\u001b[49m, mask\u001b[38;5;241m=\u001b[39m\u001b[38;5;28mself\u001b[39m\u001b[38;5;241m.\u001b[39mimage\u001b[38;5;241m.\u001b[39mmask),\n\u001b[1;32m     99\u001b[0m                           Table(star_xys, names\u001b[38;5;241m=\u001b[39m(\u001b[38;5;124m'\u001b[39m\u001b[38;5;124mx\u001b[39m\u001b[38;5;124m'\u001b[39m, \u001b[38;5;124m'\u001b[39m\u001b[38;5;124my\u001b[39m\u001b[38;5;124m'\u001b[39m)),\n\u001b[1;32m    100\u001b[0m                           size\u001b[38;5;241m=\u001b[39m\u001b[38;5;28mself\u001b[39m\u001b[38;5;241m.\u001b[39mstar_size \u001b[38;5;241m+\u001b[39m \u001b[38;5;241m6\u001b[39m  \u001b[38;5;66;03m# +6 for edge buffer\u001b[39;00m\n\u001b[1;32m    101\u001b[0m                           )\n\u001b[1;32m    102\u001b[0m logger\u001b[38;5;241m.\u001b[39minfo(\u001b[38;5;124m\"\u001b[39m\u001b[38;5;124mNumber of stars input to ePSF builder: \u001b[39m\u001b[38;5;132;01m%d\u001b[39;00m\u001b[38;5;124m\"\u001b[39m, \u001b[38;5;28mlen\u001b[39m(stars))\n\u001b[1;32m    103\u001b[0m \u001b[38;5;28;01mreturn\u001b[39;00m stars\n",
      "\u001b[0;31mAttributeError\u001b[0m: 'NoneType' object has no attribute 'data'"
     ]
    }
   ],
   "source": [
    "star_size = psf_builder.star_size\n",
    "# for extract_star, image MUST be a FlowsImage\n",
    "#extract_star_cutouts = psf_builder.extract_star_cutouts(star_xys=image)"
   ]
  },
  {
   "cell_type": "code",
   "execution_count": 5,
   "id": "90711680",
   "metadata": {},
   "outputs": [],
   "source": [
    "# Using photometry_manager\n",
    "#photometry_manager = photometry.PhotometryManager(target=\"2018rw\", image = data)\n",
    "psf_builder.extract_star_cutouts??"
   ]
  },
  {
   "cell_type": "code",
   "execution_count": 7,
   "id": "20513f83",
   "metadata": {},
   "outputs": [],
   "source": [
    "#masked_image = image.create_masked_image() # only has False so far..."
   ]
  },
  {
   "cell_type": "code",
   "execution_count": null,
   "id": "26816c1b",
   "metadata": {},
   "outputs": [],
   "source": []
  }
 ],
 "metadata": {
  "kernelspec": {
   "display_name": "Python 3 (ipykernel)",
   "language": "python",
   "name": "python3"
  },
  "language_info": {
   "codemirror_mode": {
    "name": "ipython",
    "version": 3
   },
   "file_extension": ".py",
   "mimetype": "text/x-python",
   "name": "python",
   "nbconvert_exporter": "python",
   "pygments_lexer": "ipython3",
   "version": "3.10.6"
  }
 },
 "nbformat": 4,
 "nbformat_minor": 5
}
